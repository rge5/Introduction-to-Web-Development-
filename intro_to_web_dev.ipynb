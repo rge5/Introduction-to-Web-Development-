{
  "nbformat": 4,
  "nbformat_minor": 0,
  "metadata": {
    "colab": {
      "provenance": []
    },
    "kernelspec": {
      "name": "python3",
      "display_name": "Python 3"
    },
    "language_info": {
      "name": "python"
    }
  },
  "cells": [
    {
      "cell_type": "markdown",
      "source": [
        "# Introduction TO Web Development"
      ],
      "metadata": {
        "id": "ejmdKt6WgPuz"
      }
    },
    {
      "cell_type": "markdown",
      "source": [
        "1.Explain the main components of client-server architecture and their functions.\n",
        "\n",
        "-> The main components of this architecture and their functions are:\n",
        "\n",
        "  1. client\n",
        "  * Requests services or resources from the server.\n",
        "  * Sends user input, receives responses, and presents data to the user.\n",
        "\n",
        "  2.  Server\n",
        "  * Provides services or resources requested by clients.\n",
        "  * Processes requests, performs computations, and returns results.\n",
        "\n",
        "  3. Network\n",
        "  * Connects clients and servers using protocols like HTTP, HTTPS, TCP/IP, or WebSockets.\n",
        "\n",
        "2.Discuss the various career paths available after completing a web development course.\n",
        "\n",
        "->we can start varius path after completing web development as a:\n",
        "- Frontend Developer.\n",
        "- backend eveloper.\n",
        "- fullstack developer\n",
        "\n",
        "3.Describe the role of a web browser's developer tools in web development.\n",
        "->DevTools allow developers to inspect and edit HTML elements and CSS styles directly in the browser.The Console tab helps developers log messages, check errors, and interact with JavaScript in real time.\n",
        "\n",
        "4.What are the advantages of using a Version Control System like Git in a development project.\n",
        "->these are the advantage of using vcs:-\n",
        "- Tracks changes to files over time.\n",
        "- Enables collaboration among multiple developers.\n",
        "- Provides features like branching, merging, version history.\n",
        "- Ensures efficient management of changes.\n",
        "\n",
        "5.Compare and contrast a text editor and an IDE, highlighting their key features and uses.\n",
        "-> Text editor is a simple tool for writing code and the IDE is Robust environment with features like debugging, version control, project management.\n"
      ],
      "metadata": {
        "id": "nCWUnRYPgydF"
      }
    },
    {
      "cell_type": "code",
      "execution_count": null,
      "metadata": {
        "id": "lxMx0acYfUIi"
      },
      "outputs": [],
      "source": []
    }
  ]
}